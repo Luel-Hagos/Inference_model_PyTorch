{
 "cells": [
  {
   "cell_type": "markdown",
   "id": "cc17f097",
   "metadata": {},
   "source": [
    "## Load the model"
   ]
  },
  {
   "cell_type": "code",
   "execution_count": 1,
   "id": "fb8f6f8d",
   "metadata": {},
   "outputs": [],
   "source": [
    "import torch\n",
    "from PIL import Image\n",
    "import numpy as np\n",
    "import torchvision.transforms as transforms\n",
    "import torch.nn.functional as F\n",
    "import torchvision.models as models"
   ]
  },
  {
   "cell_type": "code",
   "execution_count": 2,
   "id": "63c14510",
   "metadata": {},
   "outputs": [],
   "source": [
    "device = ('cuda' if torch.cuda.is_available() else 'cpu') # set the device "
   ]
  },
  {
   "cell_type": "code",
   "execution_count": 3,
   "id": "ca8ce3a9",
   "metadata": {},
   "outputs": [],
   "source": [
    "model = models.alexnet(pretrained=True).to(device) # load the model"
   ]
  },
  {
   "cell_type": "code",
   "execution_count": 4,
   "id": "d4c3b1d8",
   "metadata": {},
   "outputs": [
    {
     "data": {
      "text/plain": [
       "'cuda'"
      ]
     },
     "execution_count": 4,
     "metadata": {},
     "output_type": "execute_result"
    }
   ],
   "source": [
    "device"
   ]
  },
  {
   "cell_type": "markdown",
   "id": "952c12a6",
   "metadata": {},
   "source": [
    "### Load the image and Transform it"
   ]
  },
  {
   "cell_type": "code",
   "execution_count": 5,
   "id": "2efba8de",
   "metadata": {},
   "outputs": [],
   "source": [
    "def transform_image(image):\n",
    "    transform = transforms.Compose([\n",
    "        transforms.Resize(256),\n",
    "        transforms.CenterCrop(224),\n",
    "        transforms.ToTensor(),\n",
    "        transforms.Normalize([0.485, 0.456, 0.406], [0.229, 0.224, 0.225])])\n",
    "    return transform(image)"
   ]
  },
  {
   "cell_type": "code",
   "execution_count": 6,
   "id": "fd361831",
   "metadata": {},
   "outputs": [],
   "source": [
    "image = Image.open('suit.jpg') # load the image\n",
    "tensor_image = transform_image(image) # process the image\n",
    "input_batch = tensor_image.unsqueeze(0).to(device) # create a mini-batch"
   ]
  },
  {
   "cell_type": "markdown",
   "id": "f1fca60b",
   "metadata": {},
   "source": [
    "### Model Inference"
   ]
  },
  {
   "cell_type": "code",
   "execution_count": 7,
   "id": "ee569896",
   "metadata": {},
   "outputs": [
    {
     "data": {
      "text/plain": [
       "AlexNet(\n",
       "  (features): Sequential(\n",
       "    (0): Conv2d(3, 64, kernel_size=(11, 11), stride=(4, 4), padding=(2, 2))\n",
       "    (1): ReLU(inplace=True)\n",
       "    (2): MaxPool2d(kernel_size=3, stride=2, padding=0, dilation=1, ceil_mode=False)\n",
       "    (3): Conv2d(64, 192, kernel_size=(5, 5), stride=(1, 1), padding=(2, 2))\n",
       "    (4): ReLU(inplace=True)\n",
       "    (5): MaxPool2d(kernel_size=3, stride=2, padding=0, dilation=1, ceil_mode=False)\n",
       "    (6): Conv2d(192, 384, kernel_size=(3, 3), stride=(1, 1), padding=(1, 1))\n",
       "    (7): ReLU(inplace=True)\n",
       "    (8): Conv2d(384, 256, kernel_size=(3, 3), stride=(1, 1), padding=(1, 1))\n",
       "    (9): ReLU(inplace=True)\n",
       "    (10): Conv2d(256, 256, kernel_size=(3, 3), stride=(1, 1), padding=(1, 1))\n",
       "    (11): ReLU(inplace=True)\n",
       "    (12): MaxPool2d(kernel_size=3, stride=2, padding=0, dilation=1, ceil_mode=False)\n",
       "  )\n",
       "  (avgpool): AdaptiveAvgPool2d(output_size=(6, 6))\n",
       "  (classifier): Sequential(\n",
       "    (0): Dropout(p=0.5, inplace=False)\n",
       "    (1): Linear(in_features=9216, out_features=4096, bias=True)\n",
       "    (2): ReLU(inplace=True)\n",
       "    (3): Dropout(p=0.5, inplace=False)\n",
       "    (4): Linear(in_features=4096, out_features=4096, bias=True)\n",
       "    (5): ReLU(inplace=True)\n",
       "    (6): Linear(in_features=4096, out_features=1000, bias=True)\n",
       "  )\n",
       ")"
      ]
     },
     "execution_count": 7,
     "metadata": {},
     "output_type": "execute_result"
    }
   ],
   "source": [
    "model.eval()"
   ]
  },
  {
   "cell_type": "code",
   "execution_count": 8,
   "id": "3a10266a",
   "metadata": {},
   "outputs": [],
   "source": [
    "with open(\"imagenet_classes.txt\", \"r\") as f: # Read the categories\n",
    "    categories = [s.strip() for s in f.readlines()]"
   ]
  },
  {
   "cell_type": "code",
   "execution_count": 33,
   "id": "c6fc93fb",
   "metadata": {},
   "outputs": [
    {
     "data": {
      "text/plain": [
       "torch.Size([1, 1000])"
      ]
     },
     "execution_count": 33,
     "metadata": {},
     "output_type": "execute_result"
    }
   ],
   "source": [
    "with torch.no_grad():\n",
    "    output = model(input_batch)\n",
    "output.shape"
   ]
  },
  {
   "cell_type": "code",
   "execution_count": 34,
   "id": "20cf938a",
   "metadata": {},
   "outputs": [
    {
     "data": {
      "text/plain": [
       "tensor([15.0594], device='cuda:0')"
      ]
     },
     "execution_count": 34,
     "metadata": {},
     "output_type": "execute_result"
    }
   ],
   "source": [
    "value, index = torch.max(output, 1)"
   ]
  },
  {
   "cell_type": "code",
   "execution_count": 31,
   "id": "48d05cd8",
   "metadata": {},
   "outputs": [
    {
     "data": {
      "text/plain": [
       "'suit'"
      ]
     },
     "execution_count": 31,
     "metadata": {},
     "output_type": "execute_result"
    }
   ],
   "source": [
    "categories[index]"
   ]
  },
  {
   "cell_type": "code",
   "execution_count": 37,
   "id": "61299188",
   "metadata": {},
   "outputs": [],
   "source": [
    "topk = torch.topk(output, 5) # read top 5 categories per image"
   ]
  },
  {
   "cell_type": "code",
   "execution_count": 55,
   "id": "487f747e",
   "metadata": {},
   "outputs": [
    {
     "data": {
      "text/plain": [
       "torch.return_types.topk(\n",
       "values=tensor([[15.0594, 14.2250, 13.3528, 12.3846, 12.2218]], device='cuda:0'),\n",
       "indices=tensor([[834, 906, 400, 841, 869]], device='cuda:0'))"
      ]
     },
     "execution_count": 55,
     "metadata": {},
     "output_type": "execute_result"
    }
   ],
   "source": [
    "topk"
   ]
  },
  {
   "cell_type": "code",
   "execution_count": 64,
   "id": "b156c9cb",
   "metadata": {},
   "outputs": [
    {
     "name": "stdout",
     "output_type": "stream",
     "text": [
      "suit\n",
      "Windsor tie\n",
      "academic gown\n",
      "sweatshirt\n",
      "trench coat\n"
     ]
    }
   ],
   "source": [
    "for top in list(topk.indices.to('cpu').numpy().squeeze()): # Show top categories per image\n",
    "    print(categories[top])"
   ]
  }
 ],
 "metadata": {
  "kernelspec": {
   "display_name": "Python 3",
   "language": "python",
   "name": "python3"
  },
  "language_info": {
   "codemirror_mode": {
    "name": "ipython",
    "version": 3
   },
   "file_extension": ".py",
   "mimetype": "text/x-python",
   "name": "python",
   "nbconvert_exporter": "python",
   "pygments_lexer": "ipython3",
   "version": "3.8.5"
  }
 },
 "nbformat": 4,
 "nbformat_minor": 5
}
